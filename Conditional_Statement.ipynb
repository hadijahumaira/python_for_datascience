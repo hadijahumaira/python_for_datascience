{
  "nbformat": 4,
  "nbformat_minor": 0,
  "metadata": {
    "colab": {
      "provenance": [],
      "include_colab_link": true
    },
    "kernelspec": {
      "name": "python3",
      "display_name": "Python 3"
    },
    "language_info": {
      "name": "python"
    }
  },
  "cells": [
    {
      "cell_type": "markdown",
      "metadata": {
        "id": "view-in-github",
        "colab_type": "text"
      },
      "source": [
        "<a href=\"https://colab.research.google.com/github/hadijahumaira/python_for_datascience/blob/main/Conditional_Statement.ipynb\" target=\"_parent\"><img src=\"https://colab.research.google.com/assets/colab-badge.svg\" alt=\"Open In Colab\"/></a>"
      ]
    },
    {
      "cell_type": "markdown",
      "source": [
        "# Conditional Statement"
      ],
      "metadata": {
        "id": "XJ2tDlS5e4Fi"
      }
    },
    {
      "cell_type": "markdown",
      "source": [
        "## Operator Perbandingan"
      ],
      "metadata": {
        "id": "AyDTmgfAfEsH"
      }
    },
    {
      "cell_type": "code",
      "execution_count": null,
      "metadata": {
        "colab": {
          "base_uri": "https://localhost:8080/"
        },
        "id": "7-CRjhyXe1Pz",
        "outputId": "c78ead23-3843-45c1-b7d1-6bf30f5f0886"
      },
      "outputs": [
        {
          "output_type": "stream",
          "name": "stdout",
          "text": [
            "Apakah sama ? False\n"
          ]
        }
      ],
      "source": [
        "#@title Kesamaan\n",
        "\n",
        "angka1 = 10\n",
        "angka2 = 5\n",
        "\n",
        "sama = angka1 == angka2\n",
        "\n",
        "print(\"Apakah sama ?\", sama)"
      ]
    },
    {
      "cell_type": "code",
      "source": [
        "#@title Tidak Sama\n",
        "\n",
        "angka1 = 10\n",
        "angka2 = 5\n",
        "\n",
        "tidak_sama = angka1 != angka2\n",
        "\n",
        "print(\"Apakah tidak sama ?\", tidak_sama)"
      ],
      "metadata": {
        "colab": {
          "base_uri": "https://localhost:8080/"
        },
        "id": "-20BhTA8fr2L",
        "outputId": "6594731b-916c-4291-d44c-4dcb15f22897"
      },
      "execution_count": null,
      "outputs": [
        {
          "output_type": "stream",
          "name": "stdout",
          "text": [
            "Apakah tidak sama ? True\n"
          ]
        }
      ]
    },
    {
      "cell_type": "code",
      "source": [
        "#@title Lebih Besar\n",
        "\n",
        "angka1 = 10\n",
        "angka2 = 5\n",
        "\n",
        "lebih_besar = angka1 > angka2\n",
        "\n",
        "print(\"Apakah lebih besar ?\", lebih_besar)"
      ],
      "metadata": {
        "colab": {
          "base_uri": "https://localhost:8080/"
        },
        "id": "HuZUbsNQf4ex",
        "outputId": "3ee1f2e8-d7b2-4797-bc2e-4881dcfd59c6"
      },
      "execution_count": null,
      "outputs": [
        {
          "output_type": "stream",
          "name": "stdout",
          "text": [
            "Apakah lebih besar ? True\n"
          ]
        }
      ]
    },
    {
      "cell_type": "code",
      "source": [
        "#@title Lebih Kecil\n",
        "\n",
        "angka1 = 10\n",
        "angka2 = 5\n",
        "\n",
        "lebih_kecil = angka1 < angka2\n",
        "\n",
        "print(\"Apakah lebih kecil ?\", lebih_kecil)"
      ],
      "metadata": {
        "colab": {
          "base_uri": "https://localhost:8080/"
        },
        "id": "B-qwVcK_gEJU",
        "outputId": "6b3a22e5-6aaa-43a5-b4e0-bb4873c881fd"
      },
      "execution_count": null,
      "outputs": [
        {
          "output_type": "stream",
          "name": "stdout",
          "text": [
            "Apakah lebih kecil ? False\n"
          ]
        }
      ]
    },
    {
      "cell_type": "code",
      "source": [
        "#@title Lebih Besar Sama Dengan\n",
        "\n",
        "angka1 = 10\n",
        "angka2 = 5\n",
        "\n",
        "lebih_besar_sama_dengan = angka1 >= angka2\n",
        "\n",
        "print(\"Apakah lebih besar atau sama dengan ?\", lebih_besar_sama_dengan)"
      ],
      "metadata": {
        "colab": {
          "base_uri": "https://localhost:8080/"
        },
        "id": "YpQtw7UjgLpE",
        "outputId": "3d2d18b8-85de-416c-dbc2-de6f7b82d601"
      },
      "execution_count": null,
      "outputs": [
        {
          "output_type": "stream",
          "name": "stdout",
          "text": [
            "Apakah lebih besar atau sama dengan ? True\n"
          ]
        }
      ]
    },
    {
      "cell_type": "code",
      "source": [
        "#@title Lebih Kecil Sama Dengan\n",
        "\n",
        "angka1 = 10\n",
        "angka2 = 5\n",
        "\n",
        "lebih_kecil_sama_dengan = angka1 <= angka2\n",
        "\n",
        "print(\"Apakah lebih besar atau sama dengan ?\", lebih_kecil_sama_dengan)"
      ],
      "metadata": {
        "colab": {
          "base_uri": "https://localhost:8080/"
        },
        "id": "BanXaPvjgV-0",
        "outputId": "96f6ae3f-4de0-474f-c5cf-d995cf170b1b"
      },
      "execution_count": null,
      "outputs": [
        {
          "output_type": "stream",
          "name": "stdout",
          "text": [
            "Apakah lebih besar atau sama dengan ? False\n"
          ]
        }
      ]
    },
    {
      "cell_type": "markdown",
      "source": [
        "## Operator Logika"
      ],
      "metadata": {
        "id": "za1DhAHrglJD"
      }
    },
    {
      "cell_type": "code",
      "source": [
        "#@title AND\n",
        "\n",
        "kondisi1 = True\n",
        "kondisi2 = False\n",
        "\n",
        "logika_and = kondisi1 and kondisi2\n",
        "\n",
        "print(\"Hasil Logika And:\", logika_and)"
      ],
      "metadata": {
        "colab": {
          "base_uri": "https://localhost:8080/"
        },
        "id": "JM9Z7doDgkz1",
        "outputId": "89e8963a-155d-4cbb-e67b-11c699207707"
      },
      "execution_count": null,
      "outputs": [
        {
          "output_type": "stream",
          "name": "stdout",
          "text": [
            "Hasil Logika And: False\n"
          ]
        }
      ]
    },
    {
      "cell_type": "code",
      "source": [
        "#@title OR\n",
        "\n",
        "kondisi1 = False\n",
        "kondisi2 = False\n",
        "\n",
        "logika_or = kondisi1 or kondisi2\n",
        "\n",
        "print(\"Hasil Logika OR:\", logika_or)"
      ],
      "metadata": {
        "colab": {
          "base_uri": "https://localhost:8080/"
        },
        "id": "nG8eyqHIhQCP",
        "outputId": "77284538-8f05-401e-d0b7-8379164b1976"
      },
      "execution_count": null,
      "outputs": [
        {
          "output_type": "stream",
          "name": "stdout",
          "text": [
            "Hasil Logika OR: False\n"
          ]
        }
      ]
    },
    {
      "cell_type": "code",
      "source": [
        "#@title NOT\n",
        "\n",
        "kondisi1 = True\n",
        "kondisi2 = False\n",
        "\n",
        "logika_not_1 = not kondisi1\n",
        "logika_not_2 = not kondisi2\n",
        "\n",
        "print(\"Hasil Logika NOT Kondisi 1:\", logika_not_1)\n",
        "print(\"Hasil Logika NOT Kondisi 2:\", logika_not_2)"
      ],
      "metadata": {
        "colab": {
          "base_uri": "https://localhost:8080/"
        },
        "id": "xXDw1daxhY1m",
        "outputId": "f375d109-4689-453e-da54-4efec1d89d5c"
      },
      "execution_count": null,
      "outputs": [
        {
          "output_type": "stream",
          "name": "stdout",
          "text": [
            "Hasil Logika NOT Kondisi 1: False\n",
            "Hasil Logika NOT Kondisi 2: True\n"
          ]
        }
      ]
    },
    {
      "cell_type": "markdown",
      "source": [
        "## Condition IF"
      ],
      "metadata": {
        "id": "D74TP5OAihzX"
      }
    },
    {
      "cell_type": "code",
      "source": [
        "#@title if\n",
        "\n",
        "bilangan = 6\n",
        "\n",
        "if bilangan > 4:\n",
        "    print(\"Bilangan positif\")"
      ],
      "metadata": {
        "id": "laWXU-XkiWmR",
        "colab": {
          "base_uri": "https://localhost:8080/"
        },
        "outputId": "2339e615-fffe-4c4b-d06c-4167429e5b5a"
      },
      "execution_count": null,
      "outputs": [
        {
          "output_type": "stream",
          "name": "stdout",
          "text": [
            "Bilangan positif\n"
          ]
        }
      ]
    },
    {
      "cell_type": "code",
      "source": [
        "#@title if-else\n",
        "\n",
        "bilangan = 5\n",
        "\n",
        "if bilangan > 0:\n",
        "    print(\"Bilangan positif\")\n",
        "else:\n",
        "    print(\"Bilangan negatif\")"
      ],
      "metadata": {
        "colab": {
          "base_uri": "https://localhost:8080/"
        },
        "id": "ynzuq7THitGc",
        "outputId": "a6cff08a-b228-4fdf-c157-6cbb70c640a1"
      },
      "execution_count": null,
      "outputs": [
        {
          "output_type": "stream",
          "name": "stdout",
          "text": [
            "Bilangan positif\n"
          ]
        }
      ]
    },
    {
      "cell_type": "code",
      "source": [
        "#@title if-elif-else\n",
        "\n",
        "bilangan = 0\n",
        "\n",
        "if bilangan > 0:\n",
        "    print(\"Bilangan positif\")\n",
        "elif bilangan < 0:\n",
        "    print(\"Bilangan negatif\")\n",
        "else:\n",
        "    print(\"Nol\")\n"
      ],
      "metadata": {
        "colab": {
          "base_uri": "https://localhost:8080/"
        },
        "id": "Y3XvBNOriyHb",
        "outputId": "24eb350b-f3e9-425a-b311-82dd633d9792"
      },
      "execution_count": null,
      "outputs": [
        {
          "output_type": "stream",
          "name": "stdout",
          "text": [
            "Nol\n"
          ]
        }
      ]
    },
    {
      "cell_type": "markdown",
      "source": [
        "## Soal 1\n",
        "\n",
        "Buatlah script program memeriksa apakah bilangan yang dimasukkan ganjil atau genap. Jika angka yang dimasukkan bernilai genap, akan muncul output: “Angka bernilai genap”. Namun jika angka yang dimasukkan bernilai ganjil, akan muncul output: “Angka bernilai ganjil”."
      ],
      "metadata": {
        "id": "1_k6bMnAh4mq"
      }
    },
    {
      "cell_type": "code",
      "source": [
        "angka = int(input(\"Masukkan angka: \"))\n",
        "\n",
        "if angka % 2 == 0:\n",
        "    print(\"Angka bernilai genap\")\n",
        "else:\n",
        "    print(\"Angka bernilai ganjil\")"
      ],
      "metadata": {
        "colab": {
          "base_uri": "https://localhost:8080/"
        },
        "id": "kea3l7t_Csvq",
        "outputId": "236c39bc-4aa9-4cb1-f6a9-954b73f3f51e"
      },
      "execution_count": null,
      "outputs": [
        {
          "output_type": "stream",
          "name": "stdout",
          "text": [
            "Masukkan angka: 9\n",
            "Angka bernilai ganjil\n"
          ]
        }
      ]
    },
    {
      "cell_type": "markdown",
      "source": [
        "## Soal 2\n",
        "\n",
        "Buatlah script yang memberikan output sebagai berikut:\n",
        "Jika angka kelipatan 3, beri output “fizz”\n",
        "Jika angka kelipatan 5, beri output “buzz”\n",
        "Jika angka kelipatan 3 dan 5 beri output “fizzbuzz”\n",
        "Selain itu beri output “Nayy”\n"
      ],
      "metadata": {
        "id": "8RSV1ESjjF0k"
      }
    },
    {
      "cell_type": "code",
      "source": [
        "angka = int(input(\"Masukkan angka: \"))\n",
        "\n",
        "if angka % 3 == 0 and angka % 5 == 0:\n",
        "    print(\"fizzbuzz\")\n",
        "elif angka % 3 == 0:\n",
        "    print(\"fizz\")\n",
        "elif angka % 5 == 0:\n",
        "    print(\"buzz\")\n",
        "else:\n",
        "    print(\"nayy\")"
      ],
      "metadata": {
        "colab": {
          "base_uri": "https://localhost:8080/"
        },
        "id": "wh4KgPr3C5Xo",
        "outputId": "589f4ec9-237b-493a-f685-9982c6cc53c5"
      },
      "execution_count": null,
      "outputs": [
        {
          "output_type": "stream",
          "name": "stdout",
          "text": [
            "Masukkan angka: 15\n",
            "fizzbuzz\n"
          ]
        }
      ]
    },
    {
      "cell_type": "markdown",
      "source": [
        "## Soal 3\n",
        "\n",
        "Buat contoh dari :\n",
        "* Operator perbandingan\n",
        "* Operator Logika\n",
        "* Operator Condition"
      ],
      "metadata": {
        "id": "dhLO_DxGWEpi"
      }
    },
    {
      "cell_type": "code",
      "source": [
        "# Operator perbandingan\n",
        "\n",
        "a = 10\n",
        "b = 5\n",
        "\n",
        "print(a > b)\n",
        "print(a < b)\n",
        "print(a == b)\n",
        "print(a != b)\n",
        "print(a >= b)\n",
        "print(a <= b)"
      ],
      "metadata": {
        "colab": {
          "base_uri": "https://localhost:8080/"
        },
        "id": "wUR9lB6_Finx",
        "outputId": "874e0c15-5be6-4524-c8c2-a26012d74b36"
      },
      "execution_count": null,
      "outputs": [
        {
          "output_type": "stream",
          "name": "stdout",
          "text": [
            "True\n",
            "False\n",
            "False\n",
            "True\n",
            "True\n",
            "False\n"
          ]
        }
      ]
    },
    {
      "cell_type": "code",
      "source": [
        "x = True\n",
        "y = False\n",
        "\n",
        "# Operator logika\n",
        "print(x and y)\n",
        "print(x or y)\n",
        "print(not x)"
      ],
      "metadata": {
        "colab": {
          "base_uri": "https://localhost:8080/"
        },
        "id": "u6SvC95eGpSA",
        "outputId": "b75705a2-e9bd-4812-f27d-2f66f75d9927"
      },
      "execution_count": null,
      "outputs": [
        {
          "output_type": "stream",
          "name": "stdout",
          "text": [
            "False\n",
            "True\n",
            "False\n"
          ]
        }
      ]
    },
    {
      "cell_type": "code",
      "source": [
        "umur = 18\n",
        "\n",
        "if umur < 13:\n",
        "    print(\"Anak-anak\")\n",
        "elif 13 <= umur < 20:\n",
        "    print(\"Remaja\")\n",
        "elif 20 <= umur < 60:\n",
        "    print(\"Dewasa\")\n",
        "else:\n",
        "    print(\"Lansia\")\n"
      ],
      "metadata": {
        "colab": {
          "base_uri": "https://localhost:8080/"
        },
        "id": "kCz7JW1bG00s",
        "outputId": "ef10032c-2c3e-4a90-c5f3-9981ddd50b43"
      },
      "execution_count": null,
      "outputs": [
        {
          "output_type": "stream",
          "name": "stdout",
          "text": [
            "Remaja\n"
          ]
        }
      ]
    },
    {
      "cell_type": "markdown",
      "source": [
        "## Soal 4\n",
        "\n",
        "buah = [\"nanas\", \"apel\", \"jeruk\"]\n",
        "\n",
        "buat conditional if dengan loop"
      ],
      "metadata": {
        "id": "Pp_w8r4Aom9S"
      }
    },
    {
      "cell_type": "code",
      "source": [
        "hewan = [\"naga\", \"jerapah\", \"semaut\", \"anjing\"]\n",
        "cari_hewan = \"anjing\"\n",
        "\n",
        "for item in hewan:\n",
        "    if item == cari_hewan:\n",
        "        print(cari_hewan, \"ditemukan dalam daftar hewan.\")\n",
        "        break\n",
        "else:\n",
        "    print(cari_hewan, \"tidak ditemukan dalam daftar hewan.\")\n"
      ],
      "metadata": {
        "colab": {
          "base_uri": "https://localhost:8080/"
        },
        "id": "wDbRiMLdHM7i",
        "outputId": "14e17c27-c4ea-4477-c026-37cd28cfb8ef"
      },
      "execution_count": null,
      "outputs": [
        {
          "output_type": "stream",
          "name": "stdout",
          "text": [
            "anjing ditemukan dalam daftar hewan.\n"
          ]
        }
      ]
    }
  ]
}